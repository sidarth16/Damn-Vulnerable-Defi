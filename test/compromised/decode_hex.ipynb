{
 "cells": [
  {
   "cell_type": "code",
   "execution_count": 3,
   "metadata": {},
   "outputs": [],
   "source": [
    "import base64\n",
    "def stringToBase64(s):\n",
    "    return base64.b64encode(s.encode('utf-8'))\n",
    "\n",
    "def base64ToString(b):\n",
    "    return base64.b64decode(b).decode('utf-8')"
   ]
  },
  {
   "cell_type": "code",
   "execution_count": 16,
   "metadata": {},
   "outputs": [],
   "source": [
    "def decode_hex(s):\n",
    "    print(s, end='\\n\\n')\n",
    "\n",
    "    hex2int =  [str(int(i,16)) for i in s.split()]\n",
    "    print(' '.join(hex2int), end='\\n\\n')\n",
    "\n",
    "    int2chr = []\n",
    "    for i in hex2int:\n",
    "        int2chr.append(chr(int(i)))\n",
    "\n",
    "    result_string = ''.join(int2chr)\n",
    "    print(result_string,   end='\\n\\n')\n",
    "\n",
    "    private_key = base64ToString(result_string)\n",
    "    print(private_key)\n",
    "    return private_key"
   ]
  },
  {
   "cell_type": "code",
   "execution_count": 17,
   "metadata": {},
   "outputs": [
    {
     "name": "stdout",
     "output_type": "stream",
     "text": [
      "4d 48 68 6a 4e 6a 63 34 5a 57 59 78 59 57 45 30 4e 54 5a 6b 59 54 59 31 59 7a 5a 6d 59 7a 55 34 4e 6a 46 6b 4e 44 51 34 4f 54 4a 6a 5a 47 5a 68 59 7a 42 6a 4e 6d 4d 34 59 7a 49 31 4e 6a 42 69 5a 6a 42 6a 4f 57 5a 69 59 32 52 68 5a 54 4a 6d 4e 44 63 7a 4e 57 45 35\n",
      "\n",
      "77 72 104 106 78 106 99 52 90 87 89 120 89 87 69 48 78 84 90 107 89 84 89 49 89 122 90 109 89 122 85 52 78 106 70 107 78 68 81 52 79 84 74 106 90 71 90 104 89 122 66 106 78 109 77 52 89 122 73 49 78 106 66 105 90 106 66 106 79 87 90 105 89 50 82 104 90 84 74 109 78 68 99 122 78 87 69 53\n",
      "\n",
      "MHhjNjc4ZWYxYWE0NTZkYTY1YzZmYzU4NjFkNDQ4OTJjZGZhYzBjNmM4YzI1NjBiZjBjOWZiY2RhZTJmNDczNWE5\n",
      "\n",
      "0xc678ef1aa456da65c6fc5861d44892cdfac0c6c8c2560bf0c9fbcdae2f4735a9\n"
     ]
    }
   ],
   "source": [
    "s1 = \"4d 48 68 6a 4e 6a 63 34 5a 57 59 78 59 57 45 30 4e 54 5a 6b 59 54 59 31 59 7a 5a 6d 59 7a 55 34 4e 6a 46 6b 4e 44 51 34 4f 54 4a 6a 5a 47 5a 68 59 7a 42 6a 4e 6d 4d 34 59 7a 49 31 4e 6a 42 69 5a 6a 42 6a 4f 57 5a 69 59 32 52 68 5a 54 4a 6d 4e 44 63 7a 4e 57 45 35\"\n",
    "\n",
    "private_key1 = decode_hex(s1)"
   ]
  },
  {
   "cell_type": "code",
   "execution_count": 18,
   "metadata": {},
   "outputs": [
    {
     "name": "stdout",
     "output_type": "stream",
     "text": [
      "4d 48 67 79 4d 44 67 79 4e 44 4a 6a 4e 44 42 68 59 32 52 6d 59 54 6c 6c 5a 44 67 34 4f 57 55 32 4f 44 56 6a 4d 6a 4d 31 4e 44 64 68 59 32 4a 6c 5a 44 6c 69 5a 57 5a 6a 4e 6a 41 7a 4e 7a 46 6c 4f 54 67 33 4e 57 5a 69 59 32 51 33 4d 7a 59 7a 4e 44 42 69 59 6a 51 34\n",
      "\n",
      "77 72 103 121 77 68 103 121 78 68 74 106 78 68 66 104 89 50 82 109 89 84 108 108 90 68 103 52 79 87 85 50 79 68 86 106 77 106 77 49 78 68 100 104 89 50 74 108 90 68 108 105 90 87 90 106 78 106 65 122 78 122 70 108 79 84 103 51 78 87 90 105 89 50 81 51 77 122 89 122 78 68 66 105 89 106 81 52\n",
      "\n",
      "MHgyMDgyNDJjNDBhY2RmYTllZDg4OWU2ODVjMjM1NDdhY2JlZDliZWZjNjAzNzFlOTg3NWZiY2Q3MzYzNDBiYjQ4\n",
      "\n",
      "0x208242c40acdfa9ed889e685c23547acbed9befc60371e9875fbcd736340bb48\n"
     ]
    }
   ],
   "source": [
    "s2 = \"4d 48 67 79 4d 44 67 79 4e 44 4a 6a 4e 44 42 68 59 32 52 6d 59 54 6c 6c 5a 44 67 34 4f 57 55 32 4f 44 56 6a 4d 6a 4d 31 4e 44 64 68 59 32 4a 6c 5a 44 6c 69 5a 57 5a 6a 4e 6a 41 7a 4e 7a 46 6c 4f 54 67 33 4e 57 5a 69 59 32 51 33 4d 7a 59 7a 4e 44 42 69 59 6a 51 34\"\n",
    "private_key2 =decode_hex(s2)"
   ]
  },
  {
   "cell_type": "code",
   "execution_count": 19,
   "metadata": {},
   "outputs": [
    {
     "name": "stdout",
     "output_type": "stream",
     "text": [
      "private_key1 :  0xc678ef1aa456da65c6fc5861d44892cdfac0c6c8c2560bf0c9fbcdae2f4735a9\n",
      "private_key2 :  0x208242c40acdfa9ed889e685c23547acbed9befc60371e9875fbcd736340bb48\n"
     ]
    }
   ],
   "source": [
    "print(\"private_key1 : \",private_key1)\n",
    "print(\"private_key2 : \",private_key2)"
   ]
  },
  {
   "cell_type": "code",
   "execution_count": 22,
   "metadata": {},
   "outputs": [
    {
     "data": {
      "text/plain": [
       "0"
      ]
     },
     "execution_count": 22,
     "metadata": {},
     "output_type": "execute_result"
    }
   ],
   "source": [
    "# Setting oracle proce as 0 , using 2 accounts \n",
    "\n",
    "def computeMedianPrice(prices) :\n",
    "        # calculate median price\n",
    "        if int((len(prices)% 2) == 0) :\n",
    "            leftPrice = prices[(len(prices) // 2) - 1];\n",
    "            rightPrice = prices[len(prices) // 2];\n",
    "            return (leftPrice + rightPrice) / 2;\n",
    "        else :\n",
    "            return prices[len(prices) // 2];\n",
    "        \n",
    "computeMedianPrice([0, 0, 999])"
   ]
  },
  {
   "cell_type": "code",
   "execution_count": null,
   "metadata": {},
   "outputs": [],
   "source": []
  }
 ],
 "metadata": {
  "interpreter": {
   "hash": "31f2aee4e71d21fbe5cf8b01ff0e069b9275f58929596ceb00d14d90e3e16cd6"
  },
  "kernelspec": {
   "display_name": "Python 3.8.9 64-bit",
   "language": "python",
   "name": "python3"
  },
  "language_info": {
   "codemirror_mode": {
    "name": "ipython",
    "version": 3
   },
   "file_extension": ".py",
   "mimetype": "text/x-python",
   "name": "python",
   "nbconvert_exporter": "python",
   "pygments_lexer": "ipython3",
   "version": "3.8.9"
  },
  "orig_nbformat": 4
 },
 "nbformat": 4,
 "nbformat_minor": 2
}
